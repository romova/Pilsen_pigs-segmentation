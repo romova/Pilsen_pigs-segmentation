{
 "cells": [
  {
   "cell_type": "code",
   "execution_count": 67,
   "id": "d663b4e6",
   "metadata": {},
   "outputs": [
    {
     "data": {
      "text/plain": [
       "'\\n!git clone https://github.com/mjirik/ndnoise\\n!pip install git+https://github.com/mjirik/io3d\\n!pip install git+https://github.com/mjirik/ndnoise\\n!pip install imma@git+https://github.com/mjirik/imma\\n!pip install sed3 loguru pydicom SimpleITK imma ruamel.yaml pandas\\n!pip install wandb\\n'"
      ]
     },
     "execution_count": 67,
     "metadata": {},
     "output_type": "execute_result"
    }
   ],
   "source": [
    "'''\n",
    "!git clone https://github.com/mjirik/ndnoise\n",
    "!pip install git+https://github.com/mjirik/io3d\n",
    "!pip install git+https://github.com/mjirik/ndnoise\n",
    "!pip install imma@git+https://github.com/mjirik/imma\n",
    "!pip install sed3 loguru pydicom SimpleITK imma ruamel.yaml pandas\n",
    "!pip install wandb\n",
    "'''"
   ]
  },
  {
   "cell_type": "code",
   "execution_count": 68,
   "id": "23d21d3b-de3b-490d-9461-c778c840eca0",
   "metadata": {},
   "outputs": [
    {
     "name": "stdout",
     "output_type": "stream",
     "text": [
      "The autoreload extension is already loaded. To reload it, use:\n",
      "  %reload_ext autoreload\n"
     ]
    }
   ],
   "source": [
    "# clear modules\n",
    "%load_ext autoreload\n",
    "%autoreload 2"
   ]
  },
  {
   "cell_type": "code",
   "execution_count": 69,
   "id": "e53e24b1-7ee2-4fd4-a758-48fca3c97df2",
   "metadata": {},
   "outputs": [
    {
     "name": "stdout",
     "output_type": "stream",
     "text": [
      "Singularity:\t TensorFlow:25.02-tf2-py3.SIF\n",
      "version_info:\t sys.version_info(major=3, minor=12, micro=3, releaselevel='final', serial=0)\n",
      "executable:\t /usr/bin/python\n",
      "pwd:\t\t /auto/brno2/home/romova9/2D_to_3D\n"
     ]
    }
   ],
   "source": [
    "import sys\n",
    "import os\n",
    "\n",
    "os.environ[\"TF_CPP_MIN_LOG_LEVEL\"] = \"2\" # silence warning logs\n",
    "singularity_name = os.environ.get(\"SINGULARITY_NAME\")\n",
    "if singularity_name: print(\"Singularity:\\t\", singularity_name)    \n",
    "print(\"version_info:\\t\", sys.version_info)\n",
    "print(\"executable:\\t\",sys.executable)\n",
    "print(\"pwd:\\t\\t\", os.getcwd())"
   ]
  },
  {
   "cell_type": "markdown",
   "id": "0894079d",
   "metadata": {},
   "source": [
    "# Inicializace a data processing"
   ]
  },
  {
   "cell_type": "code",
   "execution_count": 115,
   "id": "c5f78f88-9c9a-42ae-a113-7147d5904f56",
   "metadata": {},
   "outputs": [],
   "source": [
    "import numpy as np\n",
    "import matplotlib.pyplot as plt\n",
    "import ndnoise\n",
    "import random\n",
    "from numbers import Number\n",
    "from typing import Optional\n",
    "from pathlib import Path\n",
    "import scipy\n",
    "import cv2\n",
    "import skimage.transform\n",
    "import nibabel as nib\n",
    "import h5py\n",
    "import json\n",
    "\n",
    "from PIL import Image\n",
    "from loguru import logger\n",
    "import io3d\n",
    "import io3d.datasets\n",
    "logger.enable(\"io3d\")\n",
    "logger.disable(\"io3d\")\n",
    "\n",
    "from methods_2D import image_generator_train_deepvesselnet, image_generator_train_3DIrcad, image_generator_train_Pigs"
   ]
  },
  {
   "cell_type": "markdown",
   "id": "b6a9a078",
   "metadata": {},
   "source": [
    "# Data"
   ]
  },
  {
   "cell_type": "code",
   "execution_count": 121,
   "id": "d676c767-c103-4edf-a5b8-a93e29b026a6",
   "metadata": {},
   "outputs": [],
   "source": [
    "# Zvol task, vpřípadě potřeby uprav trénovací ids a typ úlohy\n",
    "tasks = [\"Deepvesselnet\", \"3DIrcad\", \"Pigs\"]\n",
    "axis = [\"axial\",\"coronal\",\"sagital\"]\n",
    "smooth = 1\n",
    "\n",
    "task = 2"
   ]
  },
  {
   "cell_type": "code",
   "execution_count": 122,
   "id": "3afdbb1e",
   "metadata": {},
   "outputs": [],
   "source": [
    "# Struktura datasetu 3DIrcad\n",
    "#-----------------------------------------------------------------------------------------------------------------------------------\n",
    "#     DICOM_file - NEW_voxelsize = [1,1,1]        ORIG_data_shape      ORIG_data_voxelsize   RESIZED_data_shape\n",
    "# ----------------------------------------------------------------------------------------------------------------------------------\n",
    "portalvein = [1, 2, 4, 5, 6, 7, 8, 9, 11, 12, 13, 14, 15, 16, 17, 18, 19]     # portalvein - zdola do jater\n",
    "artery = [1, 4, 5, 6, 7, 8, 9, 11, 12, 13, 17] \n",
    "venacava = [2, 11, 12, 13, 18]                                      # venacava - shora do jater\n",
    "venoussystem = [1, 4, 5, 6, 7, 8, 9, 14, 15, 16, 17, 19]\n",
    "cevy = [1, 4, 5, 6, 7, 8, 9, 17]      # artery, portalvein, venoussystem\n",
    "cevy1 = [1, 4, 5, 6, 7, 8, 9, 14, 15, 16, 17, 19]   # portalvein, venoussystem\n",
    "liver = [1,2,3,4,5,6,7,8,9,10,11,12,13,14,15,16,17,18,19,20]\n",
    "\n",
    "s_artery = ['artery','artery'] # format [jmeno_modelu, slozky ...]\n",
    "s_portalvein = ['portalvein', 'portalvein']\n",
    "s_venacava = ['venacava', 'venacava']\n",
    "s_venoussystem = ['venoussystem', 'venoussystem']\n",
    "s_cevy = ['cevy', 'artery','portalvein','venoussystem']\n",
    "s_cevy1 = ['cevy1', 'portalvein','venoussystem']\n",
    "s_liver = ['liver', 'liver']"
   ]
  },
  {
   "cell_type": "code",
   "execution_count": 123,
   "id": "f388ac07",
   "metadata": {},
   "outputs": [],
   "source": [
    "def datagenerator_train(task=2, batchsize=2, shape=(256, 256), axis_index=0):\n",
    "    '''\n",
    "    Generuje data pro trénování podle zadané úlohy v náhodném pořadí.\n",
    "    axis_index - určuje v jakém pohledu mají být data řezána [axial, sagittal, coronal]\n",
    "    '''\n",
    "    if task == 0:\n",
    "        directory = 'data/deepvesselnet/seg'\n",
    "        all_dirs = [f for f in os.listdir(directory) if os.path.isfile(os.path.join(directory, f))]\n",
    "        ct_ids_train, ct_ids_test = split_files(all_dirs, train_ratio=0.8)\n",
    "\n",
    "        train_generator = image_generator_train_deepvesselnet(ct_ids_train, batch_size=batchsize, sz=shape, axis=axis_index)\n",
    "        test_generator  = image_generator_train_deepvesselnet(ct_ids_test, batch_size=batchsize, sz=shape, axis=axis_index)\n",
    "\n",
    "    elif task == 1:\n",
    "        io3d.datasets.DATASET_PATH_STRUCTURE[\"3Dircadb1\"][\"_\"] = \"data/medical/orig/3Dircadb1/3Dircadb1.{id}/MASKS_DICOM/{data_type}/\"\n",
    "        io3d.datasets.DATASET_PATH_STRUCTURE[\"3Dircadb1\"][\"data3d\"] = \"data/medical/orig/3Dircadb1/3Dircadb1.{id}/PATIENT_DICOM/\"\n",
    "        io3d.datasets.get_dataset_path(\"3Dircadb1\", \"data3d\", 1)\n",
    "        \n",
    "        promenne = s_artery\n",
    "        ct_ids_train = [1, 6, 7, 8, 9, 11, 12, 13, 17]\n",
    "        ct_ids_test = [14, 5]\n",
    "\n",
    "        train_generator = image_generator_train_3DIrcad(ct_ids_train, promenne=promenne, batch_size=batchsize, sz=shape, axis=axis_index)\n",
    "        test_generator  = image_generator_train_3DIrcad(ct_ids_test, promenne=promenne, batch_size=batchsize, sz=shape, axis=axis_index)\n",
    "\n",
    "    elif task == 2:\n",
    "        directory = \"data/pilsen_pigs\"\n",
    "        ct_ids_train = ['Tx025D_Art', 'Tx017D_Art', 'Tx019D_Ven', 'Tx038D_Art', 'Tx025D_Ven',\n",
    "                        'Tx039D_Art', 'Tx041D_Art', 'Tx023D_Ven', 'Tx031D_Art', 'Tx024D_Art',\n",
    "                        'Tx030D_Art', 'Tx037D_Art', 'Tx018D_Art']\n",
    "        ct_ids_test = ['Tx021D_Ven', 'Tx040D_Art']\n",
    "\n",
    "        train_generator = image_generator_train_Pigs(ct_ids_train, batch_size=batchsize, sz=shape, axis=axis_index)\n",
    "        test_generator  = image_generator_train_Pigs(ct_ids_test, batch_size=batchsize, sz=shape, axis=axis_index)\n",
    "\n",
    "    else:\n",
    "        print(\"Nastala chyba při generování dat!\")\n",
    "        return None, None\n",
    "\n",
    "    return train_generator, test_generator, ct_ids_train, ct_ids_test"
   ]
  },
  {
   "cell_type": "code",
   "execution_count": 124,
   "id": "9ff7bfb5",
   "metadata": {},
   "outputs": [],
   "source": [
    "train_generator, test_generator, ct_ids_train, ct_ids_test = datagenerator_train(task=task, batchsize=2, shape=(256, 256), axis_index=0)\n",
    "\n",
    "train_x, train_y = next(train_generator)\n",
    "test_x, test_y = next(test_generator)"
   ]
  },
  {
   "cell_type": "code",
   "execution_count": 125,
   "id": "b079729c",
   "metadata": {},
   "outputs": [
    {
     "name": "stdout",
     "output_type": "stream",
     "text": [
      "0.025737487 0.48887575 385898\n",
      "0.0 1.0 2\n",
      "0.0 1.0 256\n",
      "0.0 1.0 2\n",
      "\n",
      "(2, 256, 256, 3) (2, 256, 256, 2)\n",
      "(2, 256, 256, 3) (2, 256, 256, 2)\n"
     ]
    },
    {
     "data": {
      "image/png": "[encoded data removed]",
      "text/plain": [
       "<Figure size 640x480 with 3 Axes>"
      ]
     },
     "metadata": {},
     "output_type": "display_data"
    },
    {
     "data": {
      "image/png": "[encoded data removed]",
      "text/plain": [
       "<Figure size 640x480 with 2 Axes>"
      ]
     },
     "metadata": {},
     "output_type": "display_data"
    },
    {
     "name": "stdout",
     "output_type": "stream",
     "text": [
      "[[1. 1.]\n",
      " [1. 1.]]\n"
     ]
    }
   ],
   "source": [
    "print(np.min(train_x), np.max(train_x), len(np.unique(train_x)))\n",
    "print(np.min(train_y), np.max(train_y), len(np.unique(train_y)))\n",
    "print(np.min(test_x), np.max(test_x), len(np.unique(test_x)))\n",
    "print(np.min(test_y), np.max(test_y), len(np.unique(test_y)))\n",
    "print()\n",
    "print(train_x.shape, train_y.shape)\n",
    "print(test_x.shape, test_y.shape)\n",
    "\n",
    "slice_ = 1\n",
    "\n",
    "plt.subplot(131), plt.imshow(train_x[slice_,:,:,0], cmap='gray')\n",
    "plt.subplot(132), plt.imshow(train_x[slice_,:,:,1], cmap='gray')\n",
    "plt.subplot(133), plt.imshow(train_x[slice_,:,:,2], cmap='gray'), plt.show()\n",
    "\n",
    "plt.subplot(121), plt.imshow(train_y[slice_,:,:,0], cmap='gray')\n",
    "plt.subplot(122), plt.imshow(train_y[slice_,:,:,1], cmap='gray'), plt.show()\n",
    "\n",
    "print(train_y[slice_,0:2,0:2,0])"
   ]
  },
  {
   "cell_type": "markdown",
   "id": "a27bc230",
   "metadata": {},
   "source": [
    "# Train UNET"
   ]
  },
  {
   "cell_type": "code",
   "execution_count": 92,
   "id": "ff6fdfc6",
   "metadata": {},
   "outputs": [
    {
     "name": "stdout",
     "output_type": "stream",
     "text": [
      "INFO:tensorflow:Using MirroredStrategy with devices ('/job:localhost/replica:0/task:0/device:GPU:0', '/job:localhost/replica:0/task:0/device:GPU:1')\n",
      "Num GPUs Available:  2\n"
     ]
    }
   ],
   "source": [
    "import tensorflow as tf\n",
    "strategy = tf.distribute.MirroredStrategy()\n",
    "print(\"Num GPUs Available: \", len(tf.config.list_physical_devices('GPU')))"
   ]
  },
  {
   "cell_type": "code",
   "execution_count": 93,
   "id": "ca9038ff",
   "metadata": {},
   "outputs": [],
   "source": [
    "from tensorflow.keras import backend as K\n",
    "from tensorflow.keras import Model, layers, mixed_precision\n",
    "from tensorflow.keras.layers import Input, Conv2D, MaxPooling2D, UpSampling2D, Conv2DTranspose, Dropout, Activation, Concatenate, BatchNormalization\n",
    "#from tensorflow.keras.layers import Input, Conv3D, MaxPooling3D, UpSampling3D, Conv3DTranspose, Dropout, Activation, Concatenate, BatchNormalization\n",
    "from tensorflow.keras.callbacks import ModelCheckpoint, ReduceLROnPlateau, EarlyStopping\n",
    "from tensorflow.keras.utils import plot_model\n",
    "from tensorflow.keras.initializers import HeNormal"
   ]
  },
  {
   "cell_type": "code",
   "execution_count": 104,
   "id": "297c012d-023c-47ed-9fee-84640cf98b9c",
   "metadata": {},
   "outputs": [],
   "source": [
    "def get_unet(sz=(128, 128)):\n",
    "    x = Input(sz[0], sz[1], 3)\n",
    "    inputs = x\n",
    "\n",
    "    #down sampling\n",
    "    f = 8\n",
    "    layers = []\n",
    "\n",
    "    for i in range(0, 6):\n",
    "        x = Conv2D(f, 3, activation='relu', padding='same') (x)\n",
    "        x = Conv2D(f, 3, activation='relu', padding='same') (x)\n",
    "        layers.append(x)\n",
    "        x = MaxPooling2D() (x)\n",
    "        f = f*2\n",
    "    ff2 = 64\n",
    "\n",
    "    #bottleneck\n",
    "    j = len(layers) - 1\n",
    "    x = Conv2D(f, 3, activation='relu', padding='same') (x)\n",
    "    x = Conv2D(f, 3, activation='relu', padding='same') (x)\n",
    "    x = Conv2DTranspose(ff2, 2, strides=(2, 2), padding='same') (x)\n",
    "    x = Concatenate(axis=3)([x, layers[j]])\n",
    "    j = j -1\n",
    "\n",
    "    #upsampling\n",
    "    for i in range(0, 5):\n",
    "        ff2 = ff2//2\n",
    "        f = f // 2\n",
    "        x = Conv2D(f, 3, activation='relu', padding='same') (x)\n",
    "        x = Conv2D(f, 3, activation='relu', padding='same') (x)\n",
    "        x = Conv2DTranspose(ff2, 2, strides=(2, 2), padding='same') (x)\n",
    "        x = Concatenate(axis=3)([x, layers[j]])\n",
    "        j = j -1\n",
    "\n",
    "\n",
    "    #classification\n",
    "    x = Conv2D(f, 3, activation='relu', padding='same') (x)\n",
    "    x = Conv2D(f, 3, activation='relu', padding='same') (x)\n",
    "    outputs = Conv2D(2, 1, activation='sigmoid') (x)  # !!! 2 vektory na vystupu pro popredi i pozadi\n",
    "\n",
    "    #model creation\n",
    "    model = Model(inputs=[inputs], outputs=[outputs])\n",
    "    \n",
    "    return model"
   ]
  },
  {
   "cell_type": "code",
   "execution_count": null,
   "id": "c638834c",
   "metadata": {},
   "outputs": [],
   "source": [
    "import wandb\n",
    "from wandb.integration.keras import WandbCallback\n",
    "wandb.login()\n",
    "\n",
    "project_name = \"Log_to_wandb\""
   ]
  },
  {
   "cell_type": "code",
   "execution_count": 107,
   "id": "2037d130",
   "metadata": {},
   "outputs": [],
   "source": [
    "# Weighted_binary_crossentropy loss\n",
    "from methods_2D import weighted_binary_crossentropy, dice_coef, precision, recall, f1_score"
   ]
  },
  {
   "cell_type": "code",
   "execution_count": 108,
   "id": "45852f27",
   "metadata": {},
   "outputs": [],
   "source": [
    "num_epoch = 6\n",
    "epochs = 50\n",
    "batch_size = 4 # 4 #16 \n",
    "shape = (256, 256) # (256, 256) # (128, 128)\n",
    "weighted_binary_crossentropy.weights = [500,10]\n",
    "learning_rate = 0.001"
   ]
  },
  {
   "cell_type": "code",
   "execution_count": null,
   "id": "b27e9373",
   "metadata": {},
   "outputs": [],
   "source": [
    "model = None\n",
    "for ax in axis:\n",
    "    text = tasks[task] + \"_\" + ax\n",
    "\n",
    "    # Data generators\n",
    "    train_generator, test_generator, ct_ids_train, ct_ids_test = datagenerator_train(task=task, batchsize=batch_size, shape=shape, axis_index=axis.index(ax))\n",
    "    \n",
    "    # Initialize W&B for this axis\n",
    "    wandb.init(\n",
    "        project=project_name,\n",
    "        name=text,\n",
    "        config={\n",
    "            \"experiment_name\": text,\n",
    "            \"ct_ids_train\": ct_ids_train,\n",
    "            \"ct_ids_test\": ct_ids_test,\n",
    "            \"axis\": ax,\n",
    "            \"shape\": shape,\n",
    "            \"batch_size\": batch_size,\n",
    "            \"epochs_per_step\": epochs,\n",
    "            \"num_epoch_steps\": num_epoch,\n",
    "            \"class_weights\": weighted_binary_crossentropy.weights,\n",
    "            \"learning_rate\": learning_rate,\n",
    "            \"model_architecture\": \"2D U-Net\",\n",
    "            \"optimizer\": \"Adam\",\n",
    "            \"loss_function\": \"binary_crossentropy\",\n",
    "            \"metrics\": [\"IoU_background\", \"IoU_foreground\", \"DiceCoef\", \"Accuracy\", \"Precision\", \"Recall\", \"F1-score\"]\n",
    "        }\n",
    "    )\n",
    "    # Uložit run ID do souboru pro budoucí použití v případě dotrénování\n",
    "    wandb_log = f\"model_final/{text}.txt\"\n",
    "    os.makedirs(os.path.dirname(wandb_log), exist_ok=True) # Make directory if does not exists\n",
    "    with open(wandb_log, \"w\") as f:\n",
    "        f.write(wandb.run.id)\n",
    "    \n",
    "    # Calculate steps per epoch\n",
    "    avg_slice_number = batch_size\n",
    "    train_steps = (avg_slice_number * len(ct_ids_train)) // batch_size\n",
    "    test_steps = (avg_slice_number * len(ct_ids_test)) // batch_size\n",
    "    \n",
    "    # Create the model inside the strategy's scope\n",
    "    with strategy.scope():      \n",
    "        # For Retrain load model\n",
    "        '''\n",
    "        # Load the model with custom objects\n",
    "        custom_objects = {\n",
    "            \"dice_coef\": dice_coef,\n",
    "            \"precision\": precision,\n",
    "            \"recall\": recall,\n",
    "            \"f1_score\": f1_score\n",
    "        }\n",
    "        model = tf.keras.models.load_model(f\"model/{text}.h5\", custom_objects=custom_objects)\n",
    "        '''        \n",
    "        # New model - možno přidat rozměr\n",
    "        model = get_unet()     \n",
    "        \n",
    "        model.compile(\n",
    "            optimizer=tf.keras.optimizers.Adam(learning_rate=learning_rate, epsilon=1e-7),\n",
    "            loss=weighted_binary_crossentropy,\n",
    "            metrics=[\n",
    "                tf.keras.metrics.IoU(num_classes=2, target_class_ids=[0], name=\"iou_background\"),\n",
    "                tf.keras.metrics.IoU(num_classes=2, target_class_ids=[1], name=\"iou_foreground\"),\n",
    "                dice_coef,\n",
    "                tf.keras.metrics.BinaryAccuracy(name=\"accuracy\"),\n",
    "                precision,\n",
    "                recall,\n",
    "                f1_score\n",
    "            ]\n",
    "        )\n",
    "    \n",
    "    # Train the model\n",
    "    for i in range(num_epoch):\n",
    "        history = model.fit(\n",
    "            train_generator,\n",
    "            epochs=epochs,\n",
    "            steps_per_epoch=train_steps,\n",
    "            validation_data=test_generator,\n",
    "            validation_steps=test_steps,\n",
    "            verbose=1,\n",
    "            callbacks=[\n",
    "                WandbCallback(\n",
    "                    save_model=True,  #  True, pokud chceš ukládat model do W&B\n",
    "                    log_weights=True,\n",
    "                    log_gradients=False,  # True, pokud tě zajímají i gradienty\n",
    "                    log_evaluation=True   # Vyhodnocení val datasetu\n",
    "                )\n",
    "            ]\n",
    "        )\n",
    "        # Save model\n",
    "        model.save(f\"model_final/{text}_{i}.h5\")\n",
    "        #wandb.save(f\"model_final/{text}_{i}.h5\")\n",
    "        \n",
    "    # Finish W&B run\n",
    "    wandb.finish()"
   ]
  },
  {
   "cell_type": "markdown",
   "id": "01b21127",
   "metadata": {},
   "source": [
    "# Vyhodnoceni"
   ]
  },
  {
   "cell_type": "code",
   "execution_count": 126,
   "id": "a2dddd91",
   "metadata": {},
   "outputs": [],
   "source": [
    "import pandas as pd"
   ]
  },
  {
   "cell_type": "code",
   "execution_count": null,
   "id": "2b763080",
   "metadata": {},
   "outputs": [],
   "source": [
    "# Dictionary to collect results\n",
    "# Format: {metric_name: {model_name: evaluation_value, ...}, ...}\n",
    "results_dict = {}\n",
    "axis = [\"axial\",\"coronal\",\"sagital\"]\n",
    "modely = []\n",
    "for ax in axis:\n",
    "    # text = promene[0] + \"_\" + ax\n",
    "    # text = \"pilsen_pigs\" + \"_\" + ax\n",
    "    text = \"pilsen_pigs_\" + ax\n",
    "    \n",
    "    with strategy.scope():\n",
    "        # Define custom objects\n",
    "        custom_objects = {\n",
    "            \"dice_coef\": dice_coef,\n",
    "            \"precision\": precision,\n",
    "            \"recall\": recall,\n",
    "            \"f1_score\": f1_score\n",
    "        }\n",
    "        \n",
    "        # Load the model with custom objects\n",
    "        model = tf.keras.models.load_model(\"model/\" + text + '.h5', custom_objects=custom_objects)    \n",
    "    modely.append(model)\n",
    "    \n",
    "    # Prepare the data generators\n",
    "    train_generator, test_generator, ct_ids_train, ct_ids_test = datagenerator_train(task=task, batchsize=batch_size, shape=shape, axis_index=axis.index(ax))\n",
    "    \n",
    "    # Calculate steps per epoch (using batch_size; adjust if needed)\n",
    "    avg_slice_number = batch_size  \n",
    "    train_steps = (avg_slice_number * len(ct_ids_train)) // batch_size\n",
    "    test_steps = (avg_slice_number * len(ct_ids_test)) // batch_size\n",
    "    \n",
    "    # Evaluate the model\n",
    "    evaluation = model.evaluate(\n",
    "        test_generator,\n",
    "        steps=test_steps,  \n",
    "        verbose=1  \n",
    "    )\n",
    "    \n",
    "    # Get metric names from the model\n",
    "    metric_names = model.metrics_names  # e.g., ['loss', 'iou_background', ...]\n",
    "    \n",
    "    # Collect results for each metric\n",
    "    for m, v in zip(metric_names, evaluation):\n",
    "        if m not in results_dict:\n",
    "            results_dict[m] = {}\n",
    "        results_dict[m][text] = v\n",
    "\n",
    "# Create a DataFrame with metrics as rows and model names as columns\n",
    "metrics_df = pd.DataFrame(results_dict).transpose()\n",
    "print(\"Summary of all models:\")\n",
    "print(metrics_df)"
   ]
  },
  {
   "cell_type": "code",
   "execution_count": null,
   "id": "0f0f3a2f",
   "metadata": {},
   "outputs": [],
   "source": [
    "# modely[1].summary()"
   ]
  },
  {
   "cell_type": "markdown",
   "id": "40476de3",
   "metadata": {},
   "source": [
    "# Vizualizace testových snímků"
   ]
  },
  {
   "cell_type": "code",
   "execution_count": 131,
   "id": "1e8968c3",
   "metadata": {},
   "outputs": [
    {
     "name": "stdout",
     "output_type": "stream",
     "text": [
      "(32, 256, 256, 3) (32, 256, 256, 2)\n",
      "(32, 256, 256, 3) (32, 256, 256, 2)\n",
      "(32, 256, 256, 3) (32, 256, 256, 2)\n"
     ]
    },
    {
     "ename": "NameError",
     "evalue": "name 'new_shape' is not defined",
     "output_type": "error",
     "traceback": [
      "\u001b[0;31m---------------------------------------------------------------------------\u001b[0m",
      "\u001b[0;31mNameError\u001b[0m                                 Traceback (most recent call last)",
      "Cell \u001b[0;32mIn[131], line 11\u001b[0m\n\u001b[1;32m      9\u001b[0m x \u001b[38;5;241m=\u001b[39m [x_axial, x_coronal, x_sagital]\n\u001b[1;32m     10\u001b[0m y \u001b[38;5;241m=\u001b[39m [y_axial, y_coronal, y_sagital]\n\u001b[0;32m---> 11\u001b[0m \u001b[38;5;28mprint\u001b[39m(\u001b[38;5;124m\"\u001b[39m\u001b[38;5;124mPuvodni velikost: \u001b[39m\u001b[38;5;124m\"\u001b[39m, \u001b[43mnew_shape\u001b[49m)\n",
      "\u001b[0;31mNameError\u001b[0m: name 'new_shape' is not defined"
     ]
    }
   ],
   "source": [
    "x_axial, y_axial = next(image_generator_train(ct_ids_test, batch_size=32, sz=(256, 256), axis=0))\n",
    "x_coronal, y_coronal = next(image_generator_train(ct_ids_test, batch_size=32, sz=(256, 256), axis=1))\n",
    "x_sagital, y_sagital = next(image_generator_train(ct_ids_test, batch_size=32, sz=(256, 256), axis=2))\n",
    "\n",
    "print(x_axial.shape, y_axial.shape)\n",
    "print(x_coronal.shape, y_coronal.shape)\n",
    "print(x_sagital.shape, y_sagital.shape)\n",
    "\n",
    "x = [x_axial, x_coronal, x_sagital]\n",
    "y = [y_axial, y_coronal, y_sagital]\n",
    "print(\"Puvodni velikost: \", new_shape)"
   ]
  },
  {
   "cell_type": "code",
   "execution_count": null,
   "id": "09527d85",
   "metadata": {},
   "outputs": [],
   "source": [
    "predpovedi = []\n",
    "for i in range(3):\n",
    "    print(axis[i])\n",
    "    vyhodnoceni = modely[i].evaluate(x=x[i], y=y[i])\n",
    "    predpovedi.append(modely[i].predict(x=x[i]))\n",
    "    print(predpovedi[-1].shape)\n",
    "\n",
    "for a in range(3):\n",
    "    predpovedi[a][predpovedi[a]>=0.5] = 2\n",
    "    predpovedi[a][predpovedi[a]<0.5] = 0\n",
    "    predpovedi[a][predpovedi[a]==2] = 1"
   ]
  },
  {
   "cell_type": "code",
   "execution_count": null,
   "id": "5af5dbfe-9a0b-4ea4-8ec1-56535e97cff0",
   "metadata": {},
   "outputs": [],
   "source": [
    "print(len(x))\n",
    "print(x[0].shape)\n",
    "print(x[1].shape)\n",
    "print(x[2].shape)"
   ]
  },
  {
   "cell_type": "code",
   "execution_count": null,
   "id": "a913a9ef",
   "metadata": {},
   "outputs": [],
   "source": [
    "slice_ = [15,15,15]\n",
    "\n",
    "for i in range(3):\n",
    "    print(axis[i])  \n",
    "\n",
    "    plt.figure(figsize=(16, 4))  # width=16 inches, height=4 inches\n",
    "\n",
    "    plt.subplot(1, 4, 1)\n",
    "    plt.imshow(x[i][slice_[i], :, :, 0], cmap=\"gray\")\n",
    "    plt.contour(y[i][slice_[i], :, :, 0], colors=\"red\")\n",
    "    plt.title(\"Input + GT contour\")\n",
    "\n",
    "    plt.subplot(1, 4, 2)\n",
    "    plt.imshow(predpovedi[i][slice_[i], :, :, 0], cmap=\"gray\")\n",
    "    plt.title(\"Prediction - Channel 0\")\n",
    "\n",
    "    plt.subplot(1, 4, 3)\n",
    "    plt.imshow(predpovedi[i][slice_[i], :, :, 1], cmap=\"gray\")\n",
    "    plt.title(\"Prediction - Channel 1\")\n",
    "\n",
    "    plt.subplot(1, 4, 4)\n",
    "    plt.imshow(y[i][slice_[i], :, :, 1], cmap=\"gray\")\n",
    "    plt.title(\"Ground Truth - Channel 1\")\n",
    "\n",
    "    plt.tight_layout()\n",
    "    plt.show()"
   ]
  },
  {
   "cell_type": "code",
   "execution_count": null,
   "id": "4becde13-c0db-4ecc-a25f-6bb498122a94",
   "metadata": {},
   "outputs": [],
   "source": [
    "slice_ = [6, 5, 3]\n",
    "\n",
    "for i in range(3):\n",
    "    print(axis[i])  \n",
    "\n",
    "    plt.figure(figsize=(16, 4))  # width=16 inches, height=4 inches\n",
    "\n",
    "    plt.subplot(1, 4, 1)\n",
    "    plt.imshow(x[i][slice_[i], :, :, 0], cmap=\"gray\")\n",
    "    plt.contour(y[i][slice_[i], :, :, 0], colors=\"red\")\n",
    "    plt.title(\"Input + GT contour\")\n",
    "\n",
    "    plt.subplot(1, 4, 2)\n",
    "    plt.imshow(predpovedi[i][slice_[i], :, :, 0], cmap=\"gray\")\n",
    "    plt.title(\"Prediction - Channel 0\")\n",
    "\n",
    "    plt.subplot(1, 4, 3)\n",
    "    plt.imshow(predpovedi[i][slice_[i], :, :, 1], cmap=\"gray\")\n",
    "    plt.title(\"Prediction - Channel 1\")\n",
    "\n",
    "    plt.subplot(1, 4, 4)\n",
    "    plt.imshow(y[i][slice_[i], :, :, 1], cmap=\"gray\")\n",
    "    plt.title(\"Ground Truth - Channel 1\")\n",
    "\n",
    "    plt.tight_layout()\n",
    "    plt.show()"
   ]
  },
  {
   "cell_type": "code",
   "execution_count": null,
   "id": "2518b710",
   "metadata": {},
   "outputs": [],
   "source": [
    "ax = 2\n",
    "slice_ = 100\n",
    "ground = 0\n",
    "\n",
    "scan = x[ax][slice_,:,:,ground]\n",
    "original = y[ax][slice_,:,:,ground]\n",
    "prediction = predpovedi[ax][slice_,:,:,ground]\n",
    "difference = original - prediction\n",
    "\n",
    "plt.subplot(141), plt.imshow(scan, cmap=\"gray\"), plt.title(\"scan\")\n",
    "plt.subplot(142), plt.imshow(original, cmap=\"gray\"), plt.title(\"original\")\n",
    "plt.subplot(143), plt.imshow(prediction, cmap=\"gray\"), plt.title(\"prediction\")\n",
    "plt.subplot(144), plt.imshow(difference, cmap=\"gray\"), plt.title(\"difference\")\n",
    "\n",
    "print('original', np.unique(original))\n",
    "print('prediction', np.unique(prediction))\n",
    "print('difference', Counter(difference.flatten()))"
   ]
  },
  {
   "cell_type": "code",
   "execution_count": null,
   "id": "22aeb7f9-d354-48ce-b2ab-d32a49166feb",
   "metadata": {},
   "outputs": [],
   "source": []
  }
 ],
 "metadata": {
  "kernelspec": {
   "display_name": "Python 3 (ipykernel)",
   "language": "python",
   "name": "python3"
  },
  "language_info": {
   "codemirror_mode": {
    "name": "ipython",
    "version": 3
   },
   "file_extension": ".py",
   "mimetype": "text/x-python",
   "name": "python",
   "nbconvert_exporter": "python",
   "pygments_lexer": "ipython3",
   "version": "3.12.3"
  }
 },
 "nbformat": 4,
 "nbformat_minor": 5
}
